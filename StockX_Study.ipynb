{
 "cells": [
  {
   "cell_type": "markdown",
   "id": "ce61e9bc",
   "metadata": {},
   "source": [
    "<img src = \"https://upload.wikimedia.org/wikipedia/commons/9/95/Stockx_logo.png\" width=\"15%\"/>"
   ]
  },
  {
   "cell_type": "markdown",
   "id": "a1a0eb2c",
   "metadata": {},
   "source": [
    "# Stock X Data Analysis"
   ]
  },
  {
   "cell_type": "markdown",
   "id": "5cc20a02",
   "metadata": {},
   "source": [
    "## Objectives:\n",
    "* What shoes are most popular?\n",
    "* Which shoes have the best/worst profit margins?\n",
    "* What factors affect profit margin?\n",
    "* Is it possible to predict the sale price of a shoe at a given time?"
   ]
  },
  {
   "cell_type": "markdown",
   "id": "3431e4d8",
   "metadata": {},
   "source": [
    "### About Dataset:\n",
    "- Currently the dataset consists of the single file of sales provided by StockX. ~10000 shoe sales from 50 different models (Nike x Off-White and Yeezy)."
   ]
  },
  {
   "cell_type": "code",
   "execution_count": 1,
   "id": "f51f9706",
   "metadata": {},
   "outputs": [],
   "source": [
    "import warnings\n",
    "warnings.filterwarnings('ignore')"
   ]
  },
  {
   "cell_type": "code",
   "execution_count": 2,
   "id": "ca8dd423",
   "metadata": {},
   "outputs": [],
   "source": [
    "# libraries\n",
    "\n",
    "import pandas as pd\n",
    "import numpy as np\n",
    "import matplotlib.pyplot as plt\n",
    "import seaborn as sns\n",
    "import plotly.express as px\n"
   ]
  },
  {
   "cell_type": "code",
   "execution_count": 3,
   "id": "913574d4",
   "metadata": {},
   "outputs": [],
   "source": [
    "# Leitura do Dataset Escolhido\n",
    "dataframe = pd.read_csv(\"StockX-Data-Contest-2019-3.csv\")"
   ]
  },
  {
   "cell_type": "code",
   "execution_count": 1,
   "id": "2af03642",
   "metadata": {
    "scrolled": false
   },
   "outputs": [
    {
     "ename": "NameError",
     "evalue": "name 'dataframe' is not defined",
     "output_type": "error",
     "traceback": [
      "\u001b[1;31m---------------------------------------------------------------------------\u001b[0m",
      "\u001b[1;31mNameError\u001b[0m                                 Traceback (most recent call last)",
      "\u001b[1;32m~\\AppData\\Local\\Temp\\ipykernel_16516\\2918545601.py\u001b[0m in \u001b[0;36m<module>\u001b[1;34m\u001b[0m\n\u001b[1;32m----> 1\u001b[1;33m \u001b[0mdataframe\u001b[0m\u001b[1;33m.\u001b[0m\u001b[0mhead\u001b[0m\u001b[1;33m(\u001b[0m\u001b[1;33m)\u001b[0m \u001b[1;31m# raw data\u001b[0m\u001b[1;33m\u001b[0m\u001b[1;33m\u001b[0m\u001b[0m\n\u001b[0m",
      "\u001b[1;31mNameError\u001b[0m: name 'dataframe' is not defined"
     ]
    }
   ],
   "source": [
    "dataframe # raw data"
   ]
  },
  {
   "cell_type": "code",
   "execution_count": 5,
   "id": "733187c6",
   "metadata": {},
   "outputs": [
    {
     "name": "stdout",
     "output_type": "stream",
     "text": [
      "<class 'pandas.core.frame.DataFrame'>\n",
      "RangeIndex: 99956 entries, 0 to 99955\n",
      "Data columns (total 8 columns):\n",
      " #   Column        Non-Null Count  Dtype  \n",
      "---  ------        --------------  -----  \n",
      " 0   Order Date    99956 non-null  object \n",
      " 1   Brand         99956 non-null  object \n",
      " 2   Sneaker Name  99956 non-null  object \n",
      " 3   Sale Price    99956 non-null  object \n",
      " 4   Retail Price  99956 non-null  object \n",
      " 5   Release Date  99956 non-null  object \n",
      " 6   Shoe Size     99956 non-null  float64\n",
      " 7   Buyer Region  99956 non-null  object \n",
      "dtypes: float64(1), object(7)\n",
      "memory usage: 6.1+ MB\n"
     ]
    }
   ],
   "source": [
    "dataframe.info()"
   ]
  },
  {
   "cell_type": "code",
   "execution_count": 6,
   "id": "fe6fe80e",
   "metadata": {},
   "outputs": [],
   "source": [
    "dataframe['Sale Price'] = dataframe['Sale Price'].str.replace('$', '')\n",
    "dataframe['Sale Price'] = dataframe['Sale Price'].str.replace(',', '.')"
   ]
  },
  {
   "cell_type": "code",
   "execution_count": 7,
   "id": "f4b1035a",
   "metadata": {},
   "outputs": [],
   "source": [
    "dataframe['Retail Price'] = dataframe['Retail Price'].str.replace('$', '')"
   ]
  },
  {
   "cell_type": "code",
   "execution_count": 8,
   "id": "afeb4d66",
   "metadata": {},
   "outputs": [
    {
     "data": {
      "text/html": [
       "<div>\n",
       "<style scoped>\n",
       "    .dataframe tbody tr th:only-of-type {\n",
       "        vertical-align: middle;\n",
       "    }\n",
       "\n",
       "    .dataframe tbody tr th {\n",
       "        vertical-align: top;\n",
       "    }\n",
       "\n",
       "    .dataframe thead th {\n",
       "        text-align: right;\n",
       "    }\n",
       "</style>\n",
       "<table border=\"1\" class=\"dataframe\">\n",
       "  <thead>\n",
       "    <tr style=\"text-align: right;\">\n",
       "      <th></th>\n",
       "      <th>Order Date</th>\n",
       "      <th>Brand</th>\n",
       "      <th>Sneaker Name</th>\n",
       "      <th>Sale Price</th>\n",
       "      <th>Retail Price</th>\n",
       "      <th>Release Date</th>\n",
       "      <th>Shoe Size</th>\n",
       "      <th>Buyer Region</th>\n",
       "    </tr>\n",
       "  </thead>\n",
       "  <tbody>\n",
       "    <tr>\n",
       "      <th>0</th>\n",
       "      <td>9/1/17</td>\n",
       "      <td>Yeezy</td>\n",
       "      <td>Adidas-Yeezy-Boost-350-Low-V2-Beluga</td>\n",
       "      <td>1.097</td>\n",
       "      <td>220</td>\n",
       "      <td>9/24/16</td>\n",
       "      <td>11.0</td>\n",
       "      <td>California</td>\n",
       "    </tr>\n",
       "    <tr>\n",
       "      <th>1</th>\n",
       "      <td>9/1/17</td>\n",
       "      <td>Yeezy</td>\n",
       "      <td>Adidas-Yeezy-Boost-350-V2-Core-Black-Copper</td>\n",
       "      <td>685</td>\n",
       "      <td>220</td>\n",
       "      <td>11/23/16</td>\n",
       "      <td>11.0</td>\n",
       "      <td>California</td>\n",
       "    </tr>\n",
       "    <tr>\n",
       "      <th>2</th>\n",
       "      <td>9/1/17</td>\n",
       "      <td>Yeezy</td>\n",
       "      <td>Adidas-Yeezy-Boost-350-V2-Core-Black-Green</td>\n",
       "      <td>690</td>\n",
       "      <td>220</td>\n",
       "      <td>11/23/16</td>\n",
       "      <td>11.0</td>\n",
       "      <td>California</td>\n",
       "    </tr>\n",
       "    <tr>\n",
       "      <th>3</th>\n",
       "      <td>9/1/17</td>\n",
       "      <td>Yeezy</td>\n",
       "      <td>Adidas-Yeezy-Boost-350-V2-Core-Black-Red</td>\n",
       "      <td>1.075</td>\n",
       "      <td>220</td>\n",
       "      <td>11/23/16</td>\n",
       "      <td>11.5</td>\n",
       "      <td>Kentucky</td>\n",
       "    </tr>\n",
       "    <tr>\n",
       "      <th>4</th>\n",
       "      <td>9/1/17</td>\n",
       "      <td>Yeezy</td>\n",
       "      <td>Adidas-Yeezy-Boost-350-V2-Core-Black-Red-2017</td>\n",
       "      <td>828</td>\n",
       "      <td>220</td>\n",
       "      <td>2/11/17</td>\n",
       "      <td>11.0</td>\n",
       "      <td>Rhode Island</td>\n",
       "    </tr>\n",
       "    <tr>\n",
       "      <th>...</th>\n",
       "      <td>...</td>\n",
       "      <td>...</td>\n",
       "      <td>...</td>\n",
       "      <td>...</td>\n",
       "      <td>...</td>\n",
       "      <td>...</td>\n",
       "      <td>...</td>\n",
       "      <td>...</td>\n",
       "    </tr>\n",
       "    <tr>\n",
       "      <th>99951</th>\n",
       "      <td>2/13/19</td>\n",
       "      <td>Yeezy</td>\n",
       "      <td>adidas-Yeezy-Boost-350-V2-Static-Reflective</td>\n",
       "      <td>565</td>\n",
       "      <td>220</td>\n",
       "      <td>12/26/18</td>\n",
       "      <td>8.0</td>\n",
       "      <td>Oregon</td>\n",
       "    </tr>\n",
       "    <tr>\n",
       "      <th>99952</th>\n",
       "      <td>2/13/19</td>\n",
       "      <td>Yeezy</td>\n",
       "      <td>adidas-Yeezy-Boost-350-V2-Static-Reflective</td>\n",
       "      <td>598</td>\n",
       "      <td>220</td>\n",
       "      <td>12/26/18</td>\n",
       "      <td>8.5</td>\n",
       "      <td>California</td>\n",
       "    </tr>\n",
       "    <tr>\n",
       "      <th>99953</th>\n",
       "      <td>2/13/19</td>\n",
       "      <td>Yeezy</td>\n",
       "      <td>adidas-Yeezy-Boost-350-V2-Static-Reflective</td>\n",
       "      <td>605</td>\n",
       "      <td>220</td>\n",
       "      <td>12/26/18</td>\n",
       "      <td>5.5</td>\n",
       "      <td>New York</td>\n",
       "    </tr>\n",
       "    <tr>\n",
       "      <th>99954</th>\n",
       "      <td>2/13/19</td>\n",
       "      <td>Yeezy</td>\n",
       "      <td>adidas-Yeezy-Boost-350-V2-Static-Reflective</td>\n",
       "      <td>650</td>\n",
       "      <td>220</td>\n",
       "      <td>12/26/18</td>\n",
       "      <td>11.0</td>\n",
       "      <td>California</td>\n",
       "    </tr>\n",
       "    <tr>\n",
       "      <th>99955</th>\n",
       "      <td>2/13/19</td>\n",
       "      <td>Yeezy</td>\n",
       "      <td>adidas-Yeezy-Boost-350-V2-Static-Reflective</td>\n",
       "      <td>640</td>\n",
       "      <td>220</td>\n",
       "      <td>12/26/18</td>\n",
       "      <td>11.5</td>\n",
       "      <td>Texas</td>\n",
       "    </tr>\n",
       "  </tbody>\n",
       "</table>\n",
       "<p>99956 rows × 8 columns</p>\n",
       "</div>"
      ],
      "text/plain": [
       "      Order Date   Brand                                   Sneaker Name  \\\n",
       "0         9/1/17   Yeezy           Adidas-Yeezy-Boost-350-Low-V2-Beluga   \n",
       "1         9/1/17   Yeezy    Adidas-Yeezy-Boost-350-V2-Core-Black-Copper   \n",
       "2         9/1/17   Yeezy     Adidas-Yeezy-Boost-350-V2-Core-Black-Green   \n",
       "3         9/1/17   Yeezy       Adidas-Yeezy-Boost-350-V2-Core-Black-Red   \n",
       "4         9/1/17   Yeezy  Adidas-Yeezy-Boost-350-V2-Core-Black-Red-2017   \n",
       "...          ...     ...                                            ...   \n",
       "99951    2/13/19   Yeezy    adidas-Yeezy-Boost-350-V2-Static-Reflective   \n",
       "99952    2/13/19   Yeezy    adidas-Yeezy-Boost-350-V2-Static-Reflective   \n",
       "99953    2/13/19   Yeezy    adidas-Yeezy-Boost-350-V2-Static-Reflective   \n",
       "99954    2/13/19   Yeezy    adidas-Yeezy-Boost-350-V2-Static-Reflective   \n",
       "99955    2/13/19   Yeezy    adidas-Yeezy-Boost-350-V2-Static-Reflective   \n",
       "\n",
       "      Sale Price Retail Price Release Date  Shoe Size  Buyer Region  \n",
       "0          1.097          220      9/24/16       11.0    California  \n",
       "1            685          220     11/23/16       11.0    California  \n",
       "2            690          220     11/23/16       11.0    California  \n",
       "3          1.075          220     11/23/16       11.5      Kentucky  \n",
       "4            828          220      2/11/17       11.0  Rhode Island  \n",
       "...          ...          ...          ...        ...           ...  \n",
       "99951        565          220     12/26/18        8.0        Oregon  \n",
       "99952        598          220     12/26/18        8.5    California  \n",
       "99953        605          220     12/26/18        5.5      New York  \n",
       "99954        650          220     12/26/18       11.0    California  \n",
       "99955        640          220     12/26/18       11.5         Texas  \n",
       "\n",
       "[99956 rows x 8 columns]"
      ]
     },
     "execution_count": 8,
     "metadata": {},
     "output_type": "execute_result"
    }
   ],
   "source": [
    "dataframe"
   ]
  },
  {
   "cell_type": "code",
   "execution_count": 9,
   "id": "b5c97499",
   "metadata": {},
   "outputs": [],
   "source": [
    "dataframe['Retail Price'] = dataframe['Retail Price'].astype(int)"
   ]
  },
  {
   "cell_type": "code",
   "execution_count": 10,
   "id": "5639f3e7",
   "metadata": {},
   "outputs": [],
   "source": [
    "dataframe['Sale Price'] = dataframe['Sale Price'].astype(float)"
   ]
  },
  {
   "cell_type": "code",
   "execution_count": 11,
   "id": "a5026424",
   "metadata": {},
   "outputs": [],
   "source": [
    "dataframe['Sale Price'] = dataframe['Sale Price'].astype(int) # nao funcionou pois 1097 virou 1"
   ]
  },
  {
   "cell_type": "code",
   "execution_count": 12,
   "id": "14d8e887",
   "metadata": {},
   "outputs": [
    {
     "name": "stdout",
     "output_type": "stream",
     "text": [
      "<class 'pandas.core.frame.DataFrame'>\n",
      "RangeIndex: 99956 entries, 0 to 99955\n",
      "Data columns (total 8 columns):\n",
      " #   Column        Non-Null Count  Dtype  \n",
      "---  ------        --------------  -----  \n",
      " 0   Order Date    99956 non-null  object \n",
      " 1   Brand         99956 non-null  object \n",
      " 2   Sneaker Name  99956 non-null  object \n",
      " 3   Sale Price    99956 non-null  int32  \n",
      " 4   Retail Price  99956 non-null  int32  \n",
      " 5   Release Date  99956 non-null  object \n",
      " 6   Shoe Size     99956 non-null  float64\n",
      " 7   Buyer Region  99956 non-null  object \n",
      "dtypes: float64(1), int32(2), object(5)\n",
      "memory usage: 5.3+ MB\n"
     ]
    }
   ],
   "source": [
    "dataframe.info()"
   ]
  },
  {
   "cell_type": "code",
   "execution_count": 13,
   "id": "ef759bc1",
   "metadata": {
    "scrolled": false
   },
   "outputs": [
    {
     "data": {
      "text/plain": [
       "402.43054944175435"
      ]
     },
     "execution_count": 13,
     "metadata": {},
     "output_type": "execute_result"
    }
   ],
   "source": [
    "dataframe[\"Sale Price\"].mean() #media"
   ]
  },
  {
   "cell_type": "code",
   "execution_count": 14,
   "id": "e0f95e6c",
   "metadata": {},
   "outputs": [],
   "source": [
    "df = dataframe.drop('Order Date', axis = 1)"
   ]
  },
  {
   "cell_type": "markdown",
   "id": "607ac883",
   "metadata": {},
   "source": [
    "#### Dataframe limpo"
   ]
  },
  {
   "cell_type": "code",
   "execution_count": 15,
   "id": "1d2806ba",
   "metadata": {},
   "outputs": [
    {
     "data": {
      "text/html": [
       "<div>\n",
       "<style scoped>\n",
       "    .dataframe tbody tr th:only-of-type {\n",
       "        vertical-align: middle;\n",
       "    }\n",
       "\n",
       "    .dataframe tbody tr th {\n",
       "        vertical-align: top;\n",
       "    }\n",
       "\n",
       "    .dataframe thead th {\n",
       "        text-align: right;\n",
       "    }\n",
       "</style>\n",
       "<table border=\"1\" class=\"dataframe\">\n",
       "  <thead>\n",
       "    <tr style=\"text-align: right;\">\n",
       "      <th></th>\n",
       "      <th>Brand</th>\n",
       "      <th>Sneaker Name</th>\n",
       "      <th>Sale Price</th>\n",
       "      <th>Retail Price</th>\n",
       "      <th>Release Date</th>\n",
       "      <th>Shoe Size</th>\n",
       "      <th>Buyer Region</th>\n",
       "    </tr>\n",
       "  </thead>\n",
       "  <tbody>\n",
       "    <tr>\n",
       "      <th>0</th>\n",
       "      <td>Yeezy</td>\n",
       "      <td>Adidas-Yeezy-Boost-350-Low-V2-Beluga</td>\n",
       "      <td>1</td>\n",
       "      <td>220</td>\n",
       "      <td>9/24/16</td>\n",
       "      <td>11.0</td>\n",
       "      <td>California</td>\n",
       "    </tr>\n",
       "    <tr>\n",
       "      <th>1</th>\n",
       "      <td>Yeezy</td>\n",
       "      <td>Adidas-Yeezy-Boost-350-V2-Core-Black-Copper</td>\n",
       "      <td>685</td>\n",
       "      <td>220</td>\n",
       "      <td>11/23/16</td>\n",
       "      <td>11.0</td>\n",
       "      <td>California</td>\n",
       "    </tr>\n",
       "    <tr>\n",
       "      <th>2</th>\n",
       "      <td>Yeezy</td>\n",
       "      <td>Adidas-Yeezy-Boost-350-V2-Core-Black-Green</td>\n",
       "      <td>690</td>\n",
       "      <td>220</td>\n",
       "      <td>11/23/16</td>\n",
       "      <td>11.0</td>\n",
       "      <td>California</td>\n",
       "    </tr>\n",
       "    <tr>\n",
       "      <th>3</th>\n",
       "      <td>Yeezy</td>\n",
       "      <td>Adidas-Yeezy-Boost-350-V2-Core-Black-Red</td>\n",
       "      <td>1</td>\n",
       "      <td>220</td>\n",
       "      <td>11/23/16</td>\n",
       "      <td>11.5</td>\n",
       "      <td>Kentucky</td>\n",
       "    </tr>\n",
       "    <tr>\n",
       "      <th>4</th>\n",
       "      <td>Yeezy</td>\n",
       "      <td>Adidas-Yeezy-Boost-350-V2-Core-Black-Red-2017</td>\n",
       "      <td>828</td>\n",
       "      <td>220</td>\n",
       "      <td>2/11/17</td>\n",
       "      <td>11.0</td>\n",
       "      <td>Rhode Island</td>\n",
       "    </tr>\n",
       "    <tr>\n",
       "      <th>...</th>\n",
       "      <td>...</td>\n",
       "      <td>...</td>\n",
       "      <td>...</td>\n",
       "      <td>...</td>\n",
       "      <td>...</td>\n",
       "      <td>...</td>\n",
       "      <td>...</td>\n",
       "    </tr>\n",
       "    <tr>\n",
       "      <th>99951</th>\n",
       "      <td>Yeezy</td>\n",
       "      <td>adidas-Yeezy-Boost-350-V2-Static-Reflective</td>\n",
       "      <td>565</td>\n",
       "      <td>220</td>\n",
       "      <td>12/26/18</td>\n",
       "      <td>8.0</td>\n",
       "      <td>Oregon</td>\n",
       "    </tr>\n",
       "    <tr>\n",
       "      <th>99952</th>\n",
       "      <td>Yeezy</td>\n",
       "      <td>adidas-Yeezy-Boost-350-V2-Static-Reflective</td>\n",
       "      <td>598</td>\n",
       "      <td>220</td>\n",
       "      <td>12/26/18</td>\n",
       "      <td>8.5</td>\n",
       "      <td>California</td>\n",
       "    </tr>\n",
       "    <tr>\n",
       "      <th>99953</th>\n",
       "      <td>Yeezy</td>\n",
       "      <td>adidas-Yeezy-Boost-350-V2-Static-Reflective</td>\n",
       "      <td>605</td>\n",
       "      <td>220</td>\n",
       "      <td>12/26/18</td>\n",
       "      <td>5.5</td>\n",
       "      <td>New York</td>\n",
       "    </tr>\n",
       "    <tr>\n",
       "      <th>99954</th>\n",
       "      <td>Yeezy</td>\n",
       "      <td>adidas-Yeezy-Boost-350-V2-Static-Reflective</td>\n",
       "      <td>650</td>\n",
       "      <td>220</td>\n",
       "      <td>12/26/18</td>\n",
       "      <td>11.0</td>\n",
       "      <td>California</td>\n",
       "    </tr>\n",
       "    <tr>\n",
       "      <th>99955</th>\n",
       "      <td>Yeezy</td>\n",
       "      <td>adidas-Yeezy-Boost-350-V2-Static-Reflective</td>\n",
       "      <td>640</td>\n",
       "      <td>220</td>\n",
       "      <td>12/26/18</td>\n",
       "      <td>11.5</td>\n",
       "      <td>Texas</td>\n",
       "    </tr>\n",
       "  </tbody>\n",
       "</table>\n",
       "<p>99956 rows × 7 columns</p>\n",
       "</div>"
      ],
      "text/plain": [
       "        Brand                                   Sneaker Name  Sale Price  \\\n",
       "0       Yeezy           Adidas-Yeezy-Boost-350-Low-V2-Beluga           1   \n",
       "1       Yeezy    Adidas-Yeezy-Boost-350-V2-Core-Black-Copper         685   \n",
       "2       Yeezy     Adidas-Yeezy-Boost-350-V2-Core-Black-Green         690   \n",
       "3       Yeezy       Adidas-Yeezy-Boost-350-V2-Core-Black-Red           1   \n",
       "4       Yeezy  Adidas-Yeezy-Boost-350-V2-Core-Black-Red-2017         828   \n",
       "...       ...                                            ...         ...   \n",
       "99951   Yeezy    adidas-Yeezy-Boost-350-V2-Static-Reflective         565   \n",
       "99952   Yeezy    adidas-Yeezy-Boost-350-V2-Static-Reflective         598   \n",
       "99953   Yeezy    adidas-Yeezy-Boost-350-V2-Static-Reflective         605   \n",
       "99954   Yeezy    adidas-Yeezy-Boost-350-V2-Static-Reflective         650   \n",
       "99955   Yeezy    adidas-Yeezy-Boost-350-V2-Static-Reflective         640   \n",
       "\n",
       "       Retail Price Release Date  Shoe Size  Buyer Region  \n",
       "0               220      9/24/16       11.0    California  \n",
       "1               220     11/23/16       11.0    California  \n",
       "2               220     11/23/16       11.0    California  \n",
       "3               220     11/23/16       11.5      Kentucky  \n",
       "4               220      2/11/17       11.0  Rhode Island  \n",
       "...             ...          ...        ...           ...  \n",
       "99951           220     12/26/18        8.0        Oregon  \n",
       "99952           220     12/26/18        8.5    California  \n",
       "99953           220     12/26/18        5.5      New York  \n",
       "99954           220     12/26/18       11.0    California  \n",
       "99955           220     12/26/18       11.5         Texas  \n",
       "\n",
       "[99956 rows x 7 columns]"
      ]
     },
     "execution_count": 15,
     "metadata": {},
     "output_type": "execute_result"
    }
   ],
   "source": [
    "df # dataset limpo"
   ]
  },
  {
   "cell_type": "code",
   "execution_count": null,
   "id": "9f7d69a7",
   "metadata": {},
   "outputs": [],
   "source": []
  }
 ],
 "metadata": {
  "kernelspec": {
   "display_name": "Python 3 (ipykernel)",
   "language": "python",
   "name": "python3"
  },
  "language_info": {
   "codemirror_mode": {
    "name": "ipython",
    "version": 3
   },
   "file_extension": ".py",
   "mimetype": "text/x-python",
   "name": "python",
   "nbconvert_exporter": "python",
   "pygments_lexer": "ipython3",
   "version": "3.9.7"
  }
 },
 "nbformat": 4,
 "nbformat_minor": 5
}
